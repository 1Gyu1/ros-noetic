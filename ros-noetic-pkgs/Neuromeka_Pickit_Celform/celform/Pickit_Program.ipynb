{
 "cells": [
  {
   "cell_type": "markdown",
   "metadata": {},
   "source": [
    "# Energium-Celform Test 2020.9.17"
   ]
  },
  {
   "cell_type": "markdown",
   "metadata": {},
   "source": [
    "## Connect Indy7 and Pickit"
   ]
  },
  {
   "cell_type": "code",
   "execution_count": 1,
   "metadata": {},
   "outputs": [],
   "source": [
    "from indy_utils import indydcp_client as client\n",
    "from indy_utils.indy_program_maker import JsonProgramComponent\n",
    "from vision_clients import pickit_client as p_client\n",
    "\n",
    "from time import sleep\n",
    "import json\n",
    "from threading import Lock\n",
    "import threading"
   ]
  },
  {
   "cell_type": "code",
   "execution_count": 2,
   "metadata": {},
   "outputs": [
    {
     "name": "stdout",
     "output_type": "stream",
     "text": [
      "Connect: Server IP (192.168.1.14)\n",
      "{'ready': 1, 'emergency': 0, 'collision': 0, 'error': 0, 'busy': 0, 'movedone': 0, 'home': 0, 'zero': 0, 'resetting': 0, 'teaching': 0, 'direct_teaching': 0}\n",
      "Connect: Bind IP (192.168.1.20), Server IP (192.168.1.24)\n"
     ]
    },
    {
     "data": {
      "text/plain": [
       "True"
      ]
     },
     "execution_count": 2,
     "metadata": {},
     "output_type": "execute_result"
    }
   ],
   "source": [
    "#Set\n",
    "robot_ip = \"192.168.1.14\"\n",
    "name = \"NRMK-Indy7\" #Set robot name\n",
    "bind_ip = \"192.168.1.20\" # PC IP\n",
    "pickit_addr = \"192.168.1.24\" # Pickit Controller IP\n",
    "pickit_port = 5002\n",
    "\n",
    "# Connect to robot\n",
    "indy = client.IndyDCPClient(robot_ip, name)\n",
    "indy.connect()\n",
    "\n",
    "# Robot status (putty: pkill -9 TaskMan)\n",
    "status = indy.get_robot_status()\n",
    "print(status)\n",
    "\n",
    "# Pickit connect\n",
    "pickit = p_client.PickitClient(bind_ip, pickit_addr, pickit_port)\n",
    "pickit.connect()"
   ]
  },
  {
   "cell_type": "code",
   "execution_count": 3,
   "metadata": {},
   "outputs": [],
   "source": [
    "#  Pickit should receive periodic robot flange pose updates from the client.\n",
    "PERIOD_STOP = False\n",
    "TERMINATE_THREADS = False\n",
    "\n",
    "def periodic_send():\n",
    "    while not PERIOD_STOP:\n",
    "        sleep(0.1)\n",
    "        pickit.periodic(list(indy.get_task_pos()))  \n",
    "        if TERMINATE_THREADS:\n",
    "            print('periodic_send finished')\n",
    "            break\n",
    "\n",
    "# Create each thread for 'periodic update'\n",
    "th2 = threading.Thread(target=periodic_send)\n",
    "th2.start()"
   ]
  },
  {
   "cell_type": "markdown",
   "metadata": {},
   "source": [
    "## Config Pickit setup and product files"
   ]
  },
  {
   "cell_type": "code",
   "execution_count": null,
   "metadata": {},
   "outputs": [],
   "source": [
    "setup_id = 11\n",
    "product_id = 31\n",
    "\n",
    "status = pickit.request_config(indy, setup_id, product_id)"
   ]
  },
  {
   "cell_type": "code",
   "execution_count": null,
   "metadata": {},
   "outputs": [],
   "source": [
    "pickit.check_mode(indy)"
   ]
  },
  {
   "cell_type": "markdown",
   "metadata": {},
   "source": [
    "## Detection"
   ]
  },
  {
   "cell_type": "code",
   "execution_count": 6,
   "metadata": {},
   "outputs": [
    {
     "name": "stdout",
     "output_type": "stream",
     "text": [
      "size res data 64\n"
     ]
    },
    {
     "data": {
      "text/plain": [
       "False"
      ]
     },
     "execution_count": 6,
     "metadata": {},
     "output_type": "execute_result"
    }
   ],
   "source": [
    "obj_pos, obj_remaning, status = pickit.get_object_pos(indy)\n",
    "pickit.check_object_found(status)"
   ]
  },
  {
   "cell_type": "code",
   "execution_count": 7,
   "metadata": {},
   "outputs": [
    {
     "data": {
      "text/plain": [
       "array([0., 0., 0., 0., 0., 0.])"
      ]
     },
     "execution_count": 7,
     "metadata": {},
     "output_type": "execute_result"
    }
   ],
   "source": [
    "obj_pos"
   ]
  },
  {
   "cell_type": "markdown",
   "metadata": {
    "scrolled": true
   },
   "source": [
    "## Teaching pick point"
   ]
  },
  {
   "cell_type": "code",
   "execution_count": null,
   "metadata": {
    "scrolled": true
   },
   "outputs": [],
   "source": [
    "## Move Indy to the pick point\n",
    "pickit.set_tool_offset(indy, obj_pos)"
   ]
  },
  {
   "cell_type": "markdown",
   "metadata": {},
   "source": [
    "## Gripper on"
   ]
  },
  {
   "cell_type": "code",
   "execution_count": null,
   "metadata": {},
   "outputs": [],
   "source": [
    "indy.set_do(8, 1)"
   ]
  },
  {
   "cell_type": "markdown",
   "metadata": {},
   "source": [
    "## Gripper off"
   ]
  },
  {
   "cell_type": "code",
   "execution_count": 30,
   "metadata": {},
   "outputs": [],
   "source": [
    "indy.set_do(8, 0)"
   ]
  },
  {
   "cell_type": "markdown",
   "metadata": {},
   "source": [
    "# Teach waypoints"
   ]
  },
  {
   "cell_type": "code",
   "execution_count": null,
   "metadata": {},
   "outputs": [],
   "source": [
    "file_name='teaching/teach_config.json'\n",
    "\n",
    "# Add teaching points - task_move position\n",
    "\n",
    "# Move robot to proper waypoints of every step in the whole process.\n",
    "# Execute this cell per every waypoints after moving robot.\n",
    "\n",
    "# You MUST choose joint_move or task_move.\n",
    "\n",
    "indy.update_teaching_data(file_name, 'entry', indy.get_joint_pos())"
   ]
  },
  {
   "cell_type": "markdown",
   "metadata": {},
   "source": [
    "## Move direct to the pick point"
   ]
  },
  {
   "cell_type": "code",
   "execution_count": 24,
   "metadata": {},
   "outputs": [
    {
     "name": "stdout",
     "output_type": "stream",
     "text": [
      "size res data 64\n",
      "size res data 64\n",
      "Detect! Move to pick!\n",
      "[ 5.54650128e-01  6.28075423e-03  5.20209447e-02 -1.79200700e+02\n",
      " -1.40799994e-01 -1.75964600e+02]\n",
      "[ 5.54723620e-01  6.98516890e-03  1.02015935e-01 -1.79200700e+02\n",
      " -1.40799994e-01 -1.75964600e+02]\n",
      "Program Finished:  True\n",
      "size res data 64\n",
      "size res data 64\n",
      "Detect! Move to pick!\n",
      "[ 5.56053042e-01  6.89564599e-03  4.50163409e-02 -1.78879200e+02\n",
      " -5.37400014e-01 -1.74373200e+02]\n",
      "[ 5.56423783e-01  7.91492593e-03  9.50045735e-02 -1.78879200e+02\n",
      " -5.37400014e-01 -1.74373200e+02]\n",
      "Program Finished:  True\n",
      "size res data 64\n",
      "size res data 64\n",
      "Detect! Move to pick!\n",
      "[ 5.54227889e-01  5.22761047e-03  3.92227210e-02 -1.79441400e+02\n",
      "  7.22000021e-02 -1.74949700e+02]\n",
      "[ 5.54122210e-01  5.70763461e-03  8.92203003e-02 -1.79441400e+02\n",
      "  7.22000021e-02 -1.74949700e+02]\n",
      "Program Finished:  True\n",
      "size res data 64\n",
      "size res data 64\n",
      "Detect! Move to pick!\n",
      "[ 5.53310573e-01  4.43278346e-03  3.29163820e-02 -1.78760600e+02\n",
      " -2.13000006e-02 -1.72060000e+02]\n",
      "[ 5.53179562e-01  5.50647872e-03  8.29046816e-02 -1.78760600e+02\n",
      " -2.13000006e-02 -1.72060000e+02]\n",
      "Program Finished:  True\n",
      "size res data 64\n",
      "size res data 64\n",
      "Detect! Move to pick!\n",
      "[ 5.51413774e-01  7.04157073e-03  2.73226574e-02 -1.79430500e+02\n",
      " -7.15999962e-02 -1.75144800e+02]\n",
      "[ 5.51433980e-01  7.54204998e-03  7.73201436e-02 -1.79430500e+02\n",
      " -7.15999962e-02 -1.75144800e+02]\n",
      "Program Finished:  True\n"
     ]
    }
   ],
   "source": [
    "vel=3\n",
    "pick_height=0.05  # You should set the velocity of robot and pick height (meters) from pick position.\n",
    "\n",
    "# Load teaching data\n",
    "with open('teaching/teach_config.json') as json_file:\n",
    "    teach_config = json.load(json_file)\n",
    "    \n",
    "# Load teaching data\n",
    "with open('teaching/tool_config.json') as json_file:\n",
    "    tool_config = json.load(json_file)\n",
    "    \n",
    "t_place_2 = teach_config['t_place']\n",
    "    \n",
    "for i in range(5):\n",
    "    # Obtatin pick position from Pickit based on current robot position\n",
    "    pick_pos, pick_above, objects_remaining, status = pickit.get_pickit_pos(indy, pick_height, tool_config['tool_offset_1'])\n",
    "    t_place_2[2] += 0.003\n",
    "    # Wait next program to be finished after first iterat|ion\n",
    "    # In this case, wait for 'Place' program to be done after getting pick position above\n",
    "#     indy.wait_for_program_finish()\n",
    "\n",
    "    # Before program starts, check there are pickable oject and pickit is running\n",
    "    # Also, check the workspace was set\n",
    "\n",
    "    if pickit.check_object_found(status) and pickit.check_mode(indy) and indy.set_workspace(pick_pos):\n",
    "        print('Detect! Move to pick!')\n",
    "        print(pick_pos)\n",
    "        print(pick_above)\n",
    "\n",
    "        # Pick\n",
    "        prog = JsonProgramComponent(policy=3, resume_time=2)  # Make Json program\n",
    "        prog.add_digital_out(8, 0)  # Release gripper\n",
    "        prog.add_move_home()\n",
    "\n",
    "        # Move to pick position by task move\n",
    "        prog.add_joint_move_to(teach_config['entry'], vel=vel)\n",
    "        prog.add_task_move_to(list(pick_above), vel=vel, blend=0.1)\n",
    "        prog.add_task_move_to(list(pick_pos), vel=vel, blend=0.1)\n",
    "        prog.add_digital_out(8, 1)  # Release gripper\n",
    "\n",
    "        prog.add_wait(0.3)\n",
    "        prog.add_task_move_to(list(pick_above), vel=vel, blend=0.1)\n",
    "        prog.add_task_move_to(teach_config['pre_place'], vel=vel)\n",
    "        prog.add_task_move_to(t_place_2, vel=vel)\n",
    "        prog.add_digital_out(8, 0)\n",
    "        prog.add_wait(0.3)\n",
    "\n",
    "        prog.add_task_move_to(teach_config['pre_place'], vel=vel)\n",
    "        prog.add_move_home()\n",
    "\n",
    "        indy.set_and_start_json_program(prog.program_done())\n",
    "        indy.wait_for_program_finish()\n",
    "    else:\n",
    "        print('No object is detected')"
   ]
  },
  {
   "cell_type": "code",
   "execution_count": 5,
   "metadata": {},
   "outputs": [
    {
     "data": {
      "text/plain": [
       "[0.0, 0.0, 0.035, 0.0, 0.0, 0.0]"
      ]
     },
     "execution_count": 5,
     "metadata": {},
     "output_type": "execute_result"
    }
   ],
   "source": [
    "tcp = [0.0, 0.0, 0.035, 0.0, 0.0, 0.0]\n",
    "indy.set_default_tcp(tcp)\n",
    "indy.get_default_tcp()"
   ]
  },
  {
   "cell_type": "code",
   "execution_count": 8,
   "metadata": {},
   "outputs": [
    {
     "name": "stdout",
     "output_type": "stream",
     "text": [
      "size res data 64\n",
      "size res data 64\n",
      "size res data 64\n",
      "Detect! Move to pick!\n",
      "[ 5.53584397e-01 -9.30991992e-02  3.55237275e-02 -1.79683800e+02\n",
      " -1.53699997e-01  8.76460001e+01]\n",
      "[ 5.53854585e-01 -9.32445452e-02  8.55227858e-02 -1.79683800e+02\n",
      " -1.53699997e-01  8.76460001e+01]\n",
      "size res data 64\n",
      "Program Finished:  True\n",
      "size res data 64\n",
      "size res data 64\n",
      "Detect! Move to pick!\n",
      "[ 5.78660190e-01  1.66092422e-02  2.86235511e-02  1.79755500e+02\n",
      " -3.12900000e-01  9.17673000e+01]\n",
      "[ 5.78455329e-01  1.63297392e-02  7.86223561e-02  1.79755500e+02\n",
      " -3.12900000e-01  9.17673000e+01]\n",
      "size res data 64\n",
      "Program Finished:  True\n",
      "size res data 64\n",
      "size res data 64\n",
      "Detect! Move to pick!\n",
      "[ 5.87036967e-01  1.53208762e-01  2.71240957e-02 -1.79769800e+02\n",
      "  1.16999996e-02  9.07528000e+01]\n",
      "[ 5.87237716e-01  1.53221607e-01  7.71236867e-02 -1.79769800e+02\n",
      "  1.16999996e-02  9.07528000e+01]\n",
      "Program Finished:  True\n"
     ]
    }
   ],
   "source": [
    "vel=3\n",
    "pick_height=0.05  # You should set the velocity of robot and pick height (meters) from pick position.\n",
    "\n",
    "# Load teaching data\n",
    "with open('teaching/teach_config.json') as json_file:\n",
    "    teach_config = json.load(json_file)\n",
    "    \n",
    "# Load teaching data\n",
    "with open('teaching/tool_config.json') as json_file:\n",
    "    tool_config = json.load(json_file)\n",
    "\n",
    "# 1\n",
    "setup_id = 12\n",
    "product_id = 31\n",
    "status = pickit.request_config(indy, setup_id, product_id)\n",
    "sleep(1)\n",
    "\n",
    "pick_pos, pick_above, objects_remaining, status = pickit.get_pickit_pos(indy, pick_height, tool_config['tool_offset_1'])\n",
    "\n",
    "if pickit.check_object_found(status) and pickit.check_mode(indy) and indy.set_workspace(pick_pos):\n",
    "    print('Detect! Move to pick!')\n",
    "    print(pick_pos)\n",
    "    print(pick_above)\n",
    "        \n",
    "    # Pick\n",
    "    prog = JsonProgramComponent(policy=3, resume_time=2)  # Make Json program\n",
    "    prog.add_digital_out(8, 0)  # Release gripper\n",
    "    prog.add_move_home()\n",
    "\n",
    "    # Move to pick position by task move\n",
    "    prog.add_joint_move_to(teach_config['entry'], vel=vel)\n",
    "    prog.add_task_move_to(list(pick_above), vel=vel, blend=0.1)\n",
    "    prog.add_task_move_to(list(pick_pos), vel=vel, blend=0.1)\n",
    "    prog.add_digital_out(8, 1)  # Release gripper\n",
    "\n",
    "    prog.add_wait(0.3)\n",
    "    prog.add_task_move_to(list(pick_above), vel=vel, blend=0.1)\n",
    "    prog.add_task_move_to(teach_config['pre_place'], vel=vel)\n",
    "    prog.add_task_move_to(teach_config['t_place_1'], vel=vel)\n",
    "    prog.add_digital_out(8, 0)\n",
    "    prog.add_wait(0.3)\n",
    "\n",
    "    prog.add_task_move_to(teach_config['pre_place'], vel=vel)\n",
    "    prog.add_move_home()\n",
    "\n",
    "    indy.set_and_start_json_program(prog.program_done())\n",
    "\n",
    "else:\n",
    "    print('No object is detected')\n",
    "\n",
    "  \n",
    "\n",
    "  \n",
    "# 2\n",
    "setup_id = 13\n",
    "product_id = 32\n",
    "status = pickit.request_config(indy, setup_id, product_id)\n",
    "indy.wait_for_program_finish()\n",
    "\n",
    "pick_pos, pick_above, objects_remaining, status = pickit.get_pickit_pos(indy, pick_height, tool_config['tool_offset_1'])\n",
    "\n",
    "if pickit.check_object_found(status) and pickit.check_mode(indy) and indy.set_workspace(pick_pos):\n",
    "    print('Detect! Move to pick!')\n",
    "    print(pick_pos)\n",
    "    print(pick_above)\n",
    "    \n",
    "    # Pick\n",
    "    prog = JsonProgramComponent(policy=3, resume_time=2)  # Make Json program\n",
    "    prog.add_digital_out(8, 0)  # Release gripper\n",
    "    prog.add_move_home()\n",
    "\n",
    "    # Move to pick position by task move\n",
    "    prog.add_joint_move_to(teach_config['entry'], vel=vel)\n",
    "    prog.add_task_move_to(list(pick_above), vel=vel, blend=0.1)\n",
    "    prog.add_task_move_to(list(pick_pos), vel=vel, blend=0.1)\n",
    "    prog.add_digital_out(8, 1)  # Release gripper\n",
    "\n",
    "    prog.add_wait(0.3)\n",
    "    prog.add_task_move_to(list(pick_above), vel=vel, blend=0.1)\n",
    "    prog.add_task_move_to(teach_config['pre_place'], vel=vel)\n",
    "    prog.add_task_move_to(teach_config['t_place_2'], vel=vel)\n",
    "    prog.add_digital_out(8, 0)\n",
    "    prog.add_wait(0.3)\n",
    "\n",
    "    prog.add_task_move_to(teach_config['pre_place'], vel=vel)\n",
    "    prog.add_move_home()\n",
    "\n",
    "    indy.set_and_start_json_program(prog.program_done())\n",
    "else:\n",
    "    print('No object is detected')\n",
    "\n",
    "    \n",
    "# 3\n",
    "setup_id = 14\n",
    "product_id = 33\n",
    "status = pickit.request_config(indy, setup_id, product_id)\n",
    "\n",
    "\n",
    "indy.wait_for_program_finish()\n",
    "#sleep(15)\n",
    "pick_pos, pick_above, objects_remaining, status = pickit.get_pickit_pos(indy, pick_height, tool_config['tool_offset_1'])\n",
    "\n",
    "\n",
    "if pickit.check_object_found(status) and pickit.check_mode(indy) and indy.set_workspace(pick_pos):\n",
    "    print('Detect! Move to pick!')\n",
    "    print(pick_pos)\n",
    "    print(pick_above)\n",
    "    \n",
    "\n",
    "    # Pick\n",
    "    prog = JsonProgramComponent(policy=3, resume_time=2)  # Make Json program\n",
    "    prog.add_digital_out(8, 0)  # Release gripper\n",
    "    prog.add_move_home()\n",
    "\n",
    "    # Move to pick position by task move\n",
    "    prog.add_joint_move_to(teach_config['entry'], vel=vel)\n",
    "    prog.add_task_move_to(list(pick_above), vel=vel, blend=0.1)\n",
    "    prog.add_task_move_to(list(pick_pos), vel=vel, blend=0.1)\n",
    "    prog.add_digital_out(8, 1)  # Release gripper\n",
    "\n",
    "    prog.add_wait(0.3)\n",
    "    prog.add_task_move_to(list(pick_above), vel=vel, blend=0.1)\n",
    "    prog.add_task_move_to(teach_config['pre_place'], vel=vel)\n",
    "    prog.add_task_move_to(teach_config['t_place_3'], vel=vel)\n",
    "    prog.add_digital_out(8, 0)\n",
    "    prog.add_wait(0.3)\n",
    "\n",
    "    prog.add_task_move_to(teach_config['pre_place'], vel=vel)\n",
    "    prog.add_move_home()\n",
    "\n",
    "    indy.set_and_start_json_program(prog.program_done())\n",
    "    indy.wait_for_program_finish()\n",
    "else:\n",
    "    print('No object is detected')\n",
    "    "
   ]
  },
  {
   "cell_type": "code",
   "execution_count": 16,
   "metadata": {},
   "outputs": [
    {
     "name": "stdout",
     "output_type": "stream",
     "text": [
      "Header check fail (cmdId): Request 17, Response 9999\n",
      "ErrorCode 19: No proper program state\n"
     ]
    }
   ],
   "source": [
    "# Emergency stop example program\n",
    "\n",
    "indy.stop_current_program()\n",
    "indy.stop_motion()"
   ]
  },
  {
   "cell_type": "markdown",
   "metadata": {},
   "source": [
    "## Teaching place point"
   ]
  },
  {
   "cell_type": "code",
   "execution_count": 58,
   "metadata": {},
   "outputs": [
    {
     "data": {
      "text/plain": [
       "{'t_pick': [0.5571096188007364,\n",
       "  0.16528509628718466,\n",
       "  0.46108681852340266,\n",
       "  0.39710131561674084,\n",
       "  179.49770306118722,\n",
       "  18.233124554065693],\n",
       " 't_prepick': [0.5397469873327341,\n",
       "  0.02542943635159567,\n",
       "  0.3144541516890686,\n",
       "  179.16340053842453,\n",
       "  0.44584854024171416,\n",
       "  178.9294426598851],\n",
       " 'j_detect': [4.539805010330878e-05,\n",
       "  -14.999969734634254,\n",
       "  -90.00013619415624,\n",
       "  5.438776299505309e-05,\n",
       "  -74.99996374149627,\n",
       "  -5.438776299505309e-05],\n",
       " 'j_pre_entry': [-21.309890116543244,\n",
       "  -29.958400253423978,\n",
       "  -84.92104774664816,\n",
       "  -0.19492574257427028,\n",
       "  -66.16309439782304,\n",
       "  69.65152551632576],\n",
       " 't_entry': [0.3957395589871438,\n",
       "  0.10188531496211345,\n",
       "  0.4071773508999492,\n",
       "  2.536804027126256,\n",
       "  -175.9546966034077,\n",
       "  0.01695406757047043],\n",
       " 'j_home': [-68.86702608471528,\n",
       "  -25.192240565278002,\n",
       "  -103.45902371998356,\n",
       "  -1.1459501663057685,\n",
       "  -55.78357054455813,\n",
       "  49.69301129332011],\n",
       " 't_place1': [0.4318104197024063,\n",
       "  0.2786032223113445,\n",
       "  0.2015476029427117,\n",
       "  0.013037626531245454,\n",
       "  -179.97632760054617,\n",
       "  32.54223721789303],\n",
       " 't_place2': [0.4317818478244144,\n",
       "  0.27860910868136823,\n",
       "  0.02744010449093737,\n",
       "  -0.0022710661645639857,\n",
       "  -179.99635598371248,\n",
       "  32.530740438614124],\n",
       " 't_place2_rec': [0.5323840912749394,\n",
       "  0.2770508921473028,\n",
       "  0.02955450779803703,\n",
       "  -0.8718057846815201,\n",
       "  -179.401355775771,\n",
       "  59.87370293453565],\n",
       " 't_place1_rec': [0.5323642877531679,\n",
       "  0.2769401572179481,\n",
       "  0.18106994878022029,\n",
       "  -0.8680539126406248,\n",
       "  -179.35074994557723,\n",
       "  59.887283493521664],\n",
       " 't_place2_ssg': [0.33971121414947275,\n",
       "  0.5049843138720571,\n",
       "  0.39324634649499585,\n",
       "  0.6409933670499313,\n",
       "  -179.30847759925112,\n",
       "  0.0038724871740548924],\n",
       " 't_place1_ssg': [0.3397561311820229,\n",
       "  0.1866364327911455,\n",
       "  0.3943817919730525,\n",
       "  0.521935954514749,\n",
       "  -179.3947749054852,\n",
       "  0.03678165841957741],\n",
       " 'j_pre_home': [28.69283881069404,\n",
       "  -18.398649357568363,\n",
       "  -92.42707055462903,\n",
       "  0.8188621596535193,\n",
       "  -71.00507377398364,\n",
       "  27.43536316522458],\n",
       " 'j_detect_home': [41.1779835598555,\n",
       "  -6.6683379874746125,\n",
       "  -101.55053509169058,\n",
       "  0.7615374574567333,\n",
       "  -76.56600498917584,\n",
       "  40.8570121538548],\n",
       " 't_place_cam': [0.25660926638931264,\n",
       "  -0.3763057999218489,\n",
       "  0.566891558207884,\n",
       "  177.3734476427531,\n",
       "  18.553239442943664,\n",
       "  176.6440100058277],\n",
       " 'j_detect_home2': [-6.8031247982313365,\n",
       "  30.103946402055186,\n",
       "  -86.32007945668182,\n",
       "  3.978954352955089,\n",
       "  -103.69195617072157,\n",
       "  -2.654231609684581],\n",
       " 't_offset': [0.03192169,\n",
       "  -0.06097486899999999,\n",
       "  0.27863524559999997,\n",
       "  1.8124956199999929,\n",
       "  -3.779885601,\n",
       "  0.28058405000000164],\n",
       " 'j_detect_home1': [-7.179474633587766,\n",
       "  8.535332797973187,\n",
       "  -27.213861134428445,\n",
       "  6.109377417234313,\n",
       "  -140.20371238784958,\n",
       "  0.8412699180074812],\n",
       " 'j_entry': [64.58385625161841,\n",
       "  -29.728413731600615,\n",
       "  -74.16302641561697,\n",
       "  2.64357160813755,\n",
       "  -80.21928541731654,\n",
       "  64.00232296179259],\n",
       " 't_place': [0.5087561363783741,\n",
       "  0.2997635285632823,\n",
       "  0.033495213260025164,\n",
       "  -178.90652442662008,\n",
       "  -0.5953659302440215,\n",
       "  178.26598455191976],\n",
       " 'pre_place': [0.5086691571013843,\n",
       "  0.299642341647726,\n",
       "  0.20698386762903975,\n",
       "  -178.88124109521635,\n",
       "  -0.6123151968834271,\n",
       "  178.26173564309912],\n",
       " 'entry': [25.765663336132896,\n",
       "  -39.43969222139981,\n",
       "  -102.56699743350366,\n",
       "  -1.1705878229425275,\n",
       "  -39.357867854659155,\n",
       "  28.545852510057575]}"
      ]
     },
     "execution_count": 58,
     "metadata": {},
     "output_type": "execute_result"
    }
   ],
   "source": [
    "file_name='teaching/teach_config.json'\n",
    "\n",
    "# Add teaching points - task_move position\n",
    "\n",
    "# Move robot to proper waypoints of every step in the whole process.\n",
    "# Execute this cell per every waypoints after moving robot.\n",
    "\n",
    "# You MUST choose joint_move or task_move.\n",
    "\n",
    "indy.update_teaching_data(file_name, 'entry', indy.get_joint_pos())"
   ]
  },
  {
   "cell_type": "code",
   "execution_count": 10,
   "metadata": {},
   "outputs": [
    {
     "data": {
      "text/plain": [
       "{'t_pick': [0.5571096188007364,\n",
       "  0.16528509628718466,\n",
       "  0.46108681852340266,\n",
       "  0.39710131561674084,\n",
       "  179.49770306118722,\n",
       "  18.233124554065693],\n",
       " 't_prepick': [0.5397469873327341,\n",
       "  0.02542943635159567,\n",
       "  0.3144541516890686,\n",
       "  179.16340053842453,\n",
       "  0.44584854024171416,\n",
       "  178.9294426598851],\n",
       " 'j_detect': [4.539805010330878e-05,\n",
       "  -14.999969734634254,\n",
       "  -90.00013619415624,\n",
       "  5.438776299505309e-05,\n",
       "  -74.99996374149627,\n",
       "  -5.438776299505309e-05],\n",
       " 'j_pre_entry': [-21.309890116543244,\n",
       "  -29.958400253423978,\n",
       "  -84.92104774664816,\n",
       "  -0.19492574257427028,\n",
       "  -66.16309439782304,\n",
       "  69.65152551632576],\n",
       " 't_entry': [0.4948164610855849,\n",
       "  -0.23933260574684476,\n",
       "  0.27983213796130685,\n",
       "  -179.1423527365628,\n",
       "  -0.1469067785351539,\n",
       "  89.16629367121625],\n",
       " 'j_home': [-68.86702608471528,\n",
       "  -25.192240565278002,\n",
       "  -103.45902371998356,\n",
       "  -1.1459501663057685,\n",
       "  -55.78357054455813,\n",
       "  49.69301129332011],\n",
       " 't_place1': [0.4318104197024063,\n",
       "  0.2786032223113445,\n",
       "  0.2015476029427117,\n",
       "  0.013037626531245454,\n",
       "  -179.97632760054617,\n",
       "  32.54223721789303],\n",
       " 't_place2': [0.4317818478244144,\n",
       "  0.27860910868136823,\n",
       "  0.02744010449093737,\n",
       "  -0.0022710661645639857,\n",
       "  -179.99635598371248,\n",
       "  32.530740438614124],\n",
       " 't_place2_rec': [0.5323840912749394,\n",
       "  0.2770508921473028,\n",
       "  0.02955450779803703,\n",
       "  -0.8718057846815201,\n",
       "  -179.401355775771,\n",
       "  59.87370293453565],\n",
       " 't_place1_rec': [0.5323642877531679,\n",
       "  0.2769401572179481,\n",
       "  0.18106994878022029,\n",
       "  -0.8680539126406248,\n",
       "  -179.35074994557723,\n",
       "  59.887283493521664],\n",
       " 't_place2_ssg': [0.33971121414947275,\n",
       "  0.5049843138720571,\n",
       "  0.39324634649499585,\n",
       "  0.6409933670499313,\n",
       "  -179.30847759925112,\n",
       "  0.0038724871740548924],\n",
       " 't_place1_ssg': [0.3397561311820229,\n",
       "  0.1866364327911455,\n",
       "  0.3943817919730525,\n",
       "  0.521935954514749,\n",
       "  -179.3947749054852,\n",
       "  0.03678165841957741],\n",
       " 'j_pre_home': [28.69283881069404,\n",
       "  -18.398649357568363,\n",
       "  -92.42707055462903,\n",
       "  0.8188621596535193,\n",
       "  -71.00507377398364,\n",
       "  27.43536316522458],\n",
       " 'j_detect_home': [41.1779835598555,\n",
       "  -6.6683379874746125,\n",
       "  -101.55053509169058,\n",
       "  0.7615374574567333,\n",
       "  -76.56600498917584,\n",
       "  40.8570121538548],\n",
       " 't_place_cam': [0.25660926638931264,\n",
       "  -0.3763057999218489,\n",
       "  0.566891558207884,\n",
       "  177.3734476427531,\n",
       "  18.553239442943664,\n",
       "  176.6440100058277],\n",
       " 'j_detect_home2': [-6.8031247982313365,\n",
       "  30.103946402055186,\n",
       "  -86.32007945668182,\n",
       "  3.978954352955089,\n",
       "  -103.69195617072157,\n",
       "  -2.654231609684581],\n",
       " 't_offset': [0.03192169,\n",
       "  -0.06097486899999999,\n",
       "  0.27863524559999997,\n",
       "  1.8124956199999929,\n",
       "  -3.779885601,\n",
       "  0.28058405000000164],\n",
       " 'j_detect_home1': [-7.179474633587766,\n",
       "  8.535332797973187,\n",
       "  -27.213861134428445,\n",
       "  6.109377417234313,\n",
       "  -140.20371238784958,\n",
       "  0.8412699180074812],\n",
       " 'j_entry': [64.58385625161841,\n",
       "  -29.728413731600615,\n",
       "  -74.16302641561697,\n",
       "  2.64357160813755,\n",
       "  -80.21928541731654,\n",
       "  64.00232296179259]}"
      ]
     },
     "execution_count": 10,
     "metadata": {},
     "output_type": "execute_result"
    }
   ],
   "source": [
    "# Add teaching points - joint_move position\n",
    "\n",
    "# Move robot to proper waypoints of every step in the whole process.\n",
    "# Execute this cell per every waypoints after moving robot.\n",
    "\n",
    "# You MUST choose joint_move or task_move.\n",
    "\n",
    "indy.update_teaching_data(file_name, 'j_entry', indy.get_joint_pos())"
   ]
  },
  {
   "cell_type": "code",
   "execution_count": 7,
   "metadata": {},
   "outputs": [
    {
     "data": {
      "text/plain": [
       "[0.0, 0.0, 0.035, 0.0, 0.0, 0.0]"
      ]
     },
     "execution_count": 7,
     "metadata": {},
     "output_type": "execute_result"
    }
   ],
   "source": [
    "indy.get_default_tcp()"
   ]
  },
  {
   "cell_type": "code",
   "execution_count": 9,
   "metadata": {
    "scrolled": true
   },
   "outputs": [
    {
     "data": {
      "text/plain": [
       "{'t_pick': [0.5571096188007364,\n",
       "  0.16528509628718466,\n",
       "  0.46108681852340266,\n",
       "  0.39710131561674084,\n",
       "  179.49770306118722,\n",
       "  18.233124554065693],\n",
       " 't_prepick': [0.5397469873327341,\n",
       "  0.02542943635159567,\n",
       "  0.3144541516890686,\n",
       "  179.16340053842453,\n",
       "  0.44584854024171416,\n",
       "  178.9294426598851],\n",
       " 'j_detect': [4.539805010330878e-05,\n",
       "  -14.999969734634254,\n",
       "  -90.00013619415624,\n",
       "  5.438776299505309e-05,\n",
       "  -74.99996374149627,\n",
       "  -5.438776299505309e-05],\n",
       " 'j_pre_entry': [-21.309890116543244,\n",
       "  -29.958400253423978,\n",
       "  -84.92104774664816,\n",
       "  -0.19492574257427028,\n",
       "  -66.16309439782304,\n",
       "  69.65152551632576],\n",
       " 't_entry': [0.3957395589871438,\n",
       "  0.10188531496211345,\n",
       "  0.4071773508999492,\n",
       "  2.536804027126256,\n",
       "  -175.9546966034077,\n",
       "  0.01695406757047043],\n",
       " 'j_home': [-68.86702608471528,\n",
       "  -25.192240565278002,\n",
       "  -103.45902371998356,\n",
       "  -1.1459501663057685,\n",
       "  -55.78357054455813,\n",
       "  49.69301129332011],\n",
       " 't_place1': [0.4318104197024063,\n",
       "  0.2786032223113445,\n",
       "  0.2015476029427117,\n",
       "  0.013037626531245454,\n",
       "  -179.97632760054617,\n",
       "  32.54223721789303],\n",
       " 't_place2': [0.4317818478244144,\n",
       "  0.27860910868136823,\n",
       "  0.02744010449093737,\n",
       "  -0.0022710661645639857,\n",
       "  -179.99635598371248,\n",
       "  32.530740438614124],\n",
       " 't_place2_rec': [0.5323840912749394,\n",
       "  0.2770508921473028,\n",
       "  0.02955450779803703,\n",
       "  -0.8718057846815201,\n",
       "  -179.401355775771,\n",
       "  59.87370293453565],\n",
       " 't_place1_rec': [0.5323642877531679,\n",
       "  0.2769401572179481,\n",
       "  0.18106994878022029,\n",
       "  -0.8680539126406248,\n",
       "  -179.35074994557723,\n",
       "  59.887283493521664],\n",
       " 't_place2_ssg': [0.33971121414947275,\n",
       "  0.5049843138720571,\n",
       "  0.39324634649499585,\n",
       "  0.6409933670499313,\n",
       "  -179.30847759925112,\n",
       "  0.0038724871740548924],\n",
       " 't_place1_ssg': [0.3397561311820229,\n",
       "  0.1866364327911455,\n",
       "  0.3943817919730525,\n",
       "  0.521935954514749,\n",
       "  -179.3947749054852,\n",
       "  0.03678165841957741],\n",
       " 'j_pre_home': [28.69283881069404,\n",
       "  -18.398649357568363,\n",
       "  -92.42707055462903,\n",
       "  0.8188621596535193,\n",
       "  -71.00507377398364,\n",
       "  27.43536316522458],\n",
       " 'j_detect_home': [41.1779835598555,\n",
       "  -6.6683379874746125,\n",
       "  -101.55053509169058,\n",
       "  0.7615374574567333,\n",
       "  -76.56600498917584,\n",
       "  40.8570121538548],\n",
       " 't_place_cam': [0.25660926638931264,\n",
       "  -0.3763057999218489,\n",
       "  0.566891558207884,\n",
       "  177.3734476427531,\n",
       "  18.553239442943664,\n",
       "  176.6440100058277],\n",
       " 'j_detect_home2': [-6.8031247982313365,\n",
       "  30.103946402055186,\n",
       "  -86.32007945668182,\n",
       "  3.978954352955089,\n",
       "  -103.69195617072157,\n",
       "  -2.654231609684581],\n",
       " 't_offset': [0.03192169,\n",
       "  -0.06097486899999999,\n",
       "  0.27863524559999997,\n",
       "  1.8124956199999929,\n",
       "  -3.779885601,\n",
       "  0.28058405000000164],\n",
       " 'j_detect_home1': [-7.179474633587766,\n",
       "  8.535332797973187,\n",
       "  -27.213861134428445,\n",
       "  6.109377417234313,\n",
       "  -140.20371238784958,\n",
       "  0.8412699180074812],\n",
       " 'j_entry': [64.58385625161841,\n",
       "  -29.728413731600615,\n",
       "  -74.16302641561697,\n",
       "  2.64357160813755,\n",
       "  -80.21928541731654,\n",
       "  64.00232296179259],\n",
       " 't_place': [0.5087561363783741,\n",
       "  0.2997635285632823,\n",
       "  0.025495213260025164,\n",
       "  -178.90652442662008,\n",
       "  -0.5953659302440215,\n",
       "  178.26598455191976],\n",
       " 'pre_place': [0.5086691571013843,\n",
       "  0.299642341647726,\n",
       "  0.20698386762903975,\n",
       "  -178.88124109521635,\n",
       "  -0.6123151968834271,\n",
       "  178.26173564309912],\n",
       " 'entry': [24.515809618738704,\n",
       "  -32.671342329547606,\n",
       "  -124.3434433109586,\n",
       "  -2.610667011525543,\n",
       "  -25.094187519339524,\n",
       "  27.02000381923136],\n",
       " 't_place_1': [0.5086714394902445,\n",
       "  0.300106468519732,\n",
       "  0.03641850438868262,\n",
       "  -178.9460651782593,\n",
       "  -0.5650269639316478,\n",
       "  178.35939535502766],\n",
       " 't_place_2': [0.5047322384696707,\n",
       "  0.28523291035957915,\n",
       "  0.007174647711428724,\n",
       "  -179.95554685052915,\n",
       "  -0.030761367589476913,\n",
       "  176.24768328601075],\n",
       " 't_place_3': [0.5037363837728053,\n",
       "  0.2628537963479239,\n",
       "  0.013248885343195314,\n",
       "  0.07431577671121616,\n",
       "  -179.93690420388867,\n",
       "  0.32977627127982523]}"
      ]
     },
     "execution_count": 9,
     "metadata": {},
     "output_type": "execute_result"
    }
   ],
   "source": [
    "# Add teaching points - task_move position\n",
    "\n",
    "# Move robot to proper waypoints of every step in the whole process.\n",
    "# Execute this cell per every waypoints after moving robot.\n",
    "\n",
    "# You MUST choose joint_move or task_move.\n",
    "file_name='teaching/teach_config.json'\n",
    "indy.update_teaching_data(file_name, 't_place_3', indy.get_task_pos())"
   ]
  },
  {
   "cell_type": "code",
   "execution_count": 5,
   "metadata": {},
   "outputs": [
    {
     "data": {
      "text/plain": [
       "{'tool_offset': [-0.000799, -0.00384, 0.0931, -179.5, -1.819, 94.0],\n",
       " 'j_home': [33.78, 10.195, -107.94, 0.0005984, -82.25, 10.89],\n",
       " 'j_pre_entry': [75.0, -21.81, -116.94, 2.875, -43.12, -0.001414],\n",
       " 't_pre_entry': [0.2715, 0.3245, 0.2207, -1.8955, -178.1, 72.94],\n",
       " 't_entry': [0.359, 0.456, 0.1498, -1.673, -178.0, 68.25],\n",
       " 't_place1': [0.03001, 0.2903, 0.2208, -1.88, -178.1, 72.9],\n",
       " 't_place2': [-0.201, 0.2905, 0.266, -1.94, -178.1, 72.9]}"
      ]
     },
     "execution_count": 5,
     "metadata": {},
     "output_type": "execute_result"
    }
   ],
   "source": [
    "# Remove teaching points\n",
    "\n",
    "# Execute this cell when you need to remove specific waypoint with the name of waypoints.\n",
    "\n",
    "indy.del_teaching_pos('j_test')"
   ]
  },
  {
   "cell_type": "code",
   "execution_count": 12,
   "metadata": {},
   "outputs": [
    {
     "data": {
      "text/plain": [
       "{'tool_offset': [-0.000799, -0.00384, 0.0931, -179.5, -1.819, 94.0],\n",
       " 'j_home': [33.78, 10.195, -107.94, 0.0005984, -82.25, 10.89],\n",
       " 'j_pre_entry': [75.0, -21.81, -116.94, 2.875, -43.12, -0.001414],\n",
       " 't_pre_entry': [0.2715, 0.3245, 0.2207, -1.8955, -178.1, 72.94],\n",
       " 't_entry': [0.359, 0.456, 0.1498, -1.673, -178.0, 68.25],\n",
       " 't_place1': [0.03001, 0.2903, 0.2208, -1.88, -178.1, 72.9],\n",
       " 't_place2': [-0.201, 0.2905, 0.266, -1.94, -178.1, 72.9]}"
      ]
     },
     "execution_count": 12,
     "metadata": {},
     "output_type": "execute_result"
    }
   ],
   "source": [
    "# Remove teaching points\n",
    "\n",
    "# Execute this cell when you need to remove specific waypoint with the name of waypoints.\n",
    "\n",
    "indy.del_teaching_pos('t_test')"
   ]
  },
  {
   "cell_type": "markdown",
   "metadata": {},
   "source": [
    "# Load Config data"
   ]
  },
  {
   "cell_type": "code",
   "execution_count": 26,
   "metadata": {},
   "outputs": [],
   "source": [
    "# Load teaching data\n",
    "with open('teaching/teach_config.json') as json_file:\n",
    "    teach_config = json.load(json_file)"
   ]
  },
  {
   "cell_type": "code",
   "execution_count": 77,
   "metadata": {},
   "outputs": [],
   "source": [
    "# Load teaching data\n",
    "with open('teaching/tool_config.json') as json_file:\n",
    "    tool_config = json.load(json_file)"
   ]
  },
  {
   "cell_type": "code",
   "execution_count": 48,
   "metadata": {},
   "outputs": [
    {
     "data": {
      "text/plain": [
       "[0.0018260478973388672,\n",
       " 0.001470952294766903,\n",
       " 0.03609694540500641,\n",
       " -179.38510101622774,\n",
       " -1.085901347999017,\n",
       " 0.9499213678999416]"
      ]
     },
     "execution_count": 48,
     "metadata": {},
     "output_type": "execute_result"
    }
   ],
   "source": [
    "tool_config['tool_offset_1']"
   ]
  },
  {
   "cell_type": "markdown",
   "metadata": {},
   "source": [
    "# Pickit example program "
   ]
  },
  {
   "cell_type": "code",
   "execution_count": 22,
   "metadata": {},
   "outputs": [],
   "source": [
    "#  Pickit should receive periodic robot flange pose updates from the client.\n",
    "PERIOD_STOP = False\n",
    "TERMINATE_THREADS = False\n",
    "\n",
    "def periodic_send():\n",
    "    while not PERIOD_STOP:\n",
    "        sleep(0.1)\n",
    "        pickit.periodic(list(indy.get_task_pos()))  \n",
    "        if TERMINATE_THREADS:\n",
    "            print('periodic_send finished')\n",
    "            break\n",
    "\n",
    "# Create each thread for 'periodic update'\n",
    "th2 = threading.Thread(target=periodic_send)\n",
    "th2.start()"
   ]
  },
  {
   "cell_type": "code",
   "execution_count": 8,
   "metadata": {},
   "outputs": [
    {
     "name": "stdout",
     "output_type": "stream",
     "text": [
      "size res data 64\n",
      "[ 4.31451589e-01  4.75360185e-01  1.48531735e-01  1.78296456e+02\n",
      " -1.75407031e+00 -1.17005104e+02]\n",
      "[   0.43216401    0.47662964    0.17849639  178.29645593   -1.75407031\n",
      " -117.00510366]\n"
     ]
    }
   ],
   "source": [
    "pick_pos, pick_above, objects_remaining, status = pickit.get_pickit_pos(indy, 0.03, tool_config['tool_offset1'])\n",
    "\n",
    "print(pick_pos)\n",
    "print(pick_above)"
   ]
  },
  {
   "cell_type": "code",
   "execution_count": 28,
   "metadata": {},
   "outputs": [
    {
     "name": "stdout",
     "output_type": "stream",
     "text": [
      "size res data 64\n",
      "Program Finished:  True\n",
      "size res data 64\n",
      "Detect! Move to pick!\n",
      "[4.01893169e-01 4.75239754e-01 1.32928416e-01 1.68031702e+02\n",
      " 2.22670806e+00 6.74419818e+01]\n",
      "[  0.39396808   0.47963294   0.18210049 168.03170181   2.22670806\n",
      "  67.44198184]\n",
      "Program Finished:  True\n"
     ]
    }
   ],
   "source": [
    "vel=1\n",
    "pick_height=0.05  # You should set the velocity of robot and pick height (meters) from pick position.\n",
    "\n",
    "# Obtatin pick position from Pickit based on current robot position\n",
    "pick_pos, pick_above, objects_remaining, status = pickit.get_pickit_pos(indy, pick_height, tool_config['tool_offset2'])\n",
    "\n",
    "# Wait next program to be finished after first iteration\n",
    "# In this case, wait for 'Place' program to be done after getting pick position above\n",
    "indy.wait_for_program_finish()\n",
    "\n",
    "# Before program starts, check there are pickable oject and pickit is running\n",
    "# Also, check the workspace was set\n",
    "if pickit.check_object_found(status) and pickit.check_mode(indy) and indy.set_workspace(pick_pos):\n",
    "    print('Detect! Move to pick!')\n",
    "    print(pick_pos)\n",
    "    print(pick_above)\n",
    "\n",
    "    # Pick\n",
    "    prog = JsonProgramComponent(policy=3, resume_time=2)  # Make Json program\n",
    "    prog.add_endtool_do(type=0, value=0)  # Release gripper\n",
    "    prog.add_joint_move_to(teach_config['j_detect_home'], vel=vel, blend=20)  # Move to pre-entry point by joint move\n",
    "    prog.add_joint_move_to(teach_config['j_entry'], vel=vel)  # Move to entry point by task move\n",
    "#     prog.add_task_move_to(teach_config['t_entry'], vel=vel)  # Move to entry point by task move\n",
    "\n",
    "    # Check pick position from Pickit is lower than the height of entry point \n",
    "    if pick_above[2] <= teach_config['t_entry'][2]:\n",
    "        # Move to pick position by task move\n",
    "        prog.add_task_move_to(list(pick_above), vel=vel, blend=0.1)\n",
    "        prog.add_task_move_to(list(pick_pos), vel=vel, blend=0.1)\n",
    "        prog.add_endtool_do(type=0, value=1)  # Release gripper\n",
    "        \n",
    "\n",
    "    # Move backward to entry and pre entry points\n",
    "    prog.add_wait(1)\n",
    "    prog.add_joint_move_to(teach_config['j_entry'], vel=vel)\n",
    "    prog.add_joint_move_to(teach_config['j_detect_home'], vel=vel)\n",
    "\n",
    "    indy.set_and_start_json_program(prog.program_done())\n",
    "    indy.wait_for_program_finish()  # Wait 'Pick' program to be finished\n",
    "\n",
    "    # Place\n",
    "    prog = JsonProgramComponent(policy=3, resume_time=2)                \n",
    "    prog.add_task_move_to(teach_config['t_place'], vel=vel, blend=0.1)\n",
    "    prog.add_endtool_do(type=0, value=0)  # Release gripper\n",
    "    prog.add_wait(0.3)\n",
    "    prog.add_joint_move_to(teach_config['j_detect_home'], vel=vel)\n",
    "\n",
    "    indy.set_and_start_json_program(prog.program_done())               \n",
    "\n",
    "else:\n",
    "    print('No object is detected')"
   ]
  },
  {
   "cell_type": "code",
   "execution_count": 28,
   "metadata": {},
   "outputs": [
    {
     "name": "stdout",
     "output_type": "stream",
     "text": [
      "size res data 64\n",
      "Program Finished:  True\n",
      "size res data 64\n",
      "Detect! Move to pick!\n",
      "[4.01893169e-01 4.75239754e-01 1.32928416e-01 1.68031702e+02\n",
      " 2.22670806e+00 6.74419818e+01]\n",
      "[  0.39396808   0.47963294   0.18210049 168.03170181   2.22670806\n",
      "  67.44198184]\n",
      "Program Finished:  True\n"
     ]
    }
   ],
   "source": [
    "vel=1\n",
    "pick_height=0.05  # You should set the velocity of robot and pick height (meters) from pick position.\n",
    "\n",
    "# Obtatin pick position from Pickit based on current robot position\n",
    "pick_pos, pick_above, objects_remaining, status = pickit.get_pickit_pos(indy, pick_height, tool_config['tool_offset2'])\n",
    "\n",
    "# Wait next program to be finished after first iteration\n",
    "# In this case, wait for 'Place' program to be done after getting pick position above\n",
    "indy.wait_for_program_finish()\n",
    "\n",
    "# Before program starts, check there are pickable oject and pickit is running\n",
    "# Also, check the workspace was set\n",
    "if pickit.check_object_found(status) and pickit.check_mode(indy) and indy.set_workspace(pick_pos):\n",
    "    print('Detect! Move to pick!')\n",
    "    print(pick_pos)\n",
    "    print(pick_above)\n",
    "\n",
    "    # Pick\n",
    "    prog = JsonProgramComponent(policy=3, resume_time=2)  # Make Json program\n",
    "    prog.add_endtool_do(type=0, value=0)  # Release gripper\n",
    "    \n",
    "#     prog.add_digital_out(idx=8, val=0)\n",
    "#     dis = indy.get_di()\n",
    "#     is_gripped = dis[7]\n",
    "    \n",
    "    prog.add_joint_move_to(teach_config['j_detect_home'], vel=vel, blend=20)  # Move to pre-entry point by joint move\n",
    "    prog.add_joint_move_to(teach_config['j_entry'], vel=vel)  # Move to entry point by task move\n",
    "#     prog.add_task_move_to(teach_config['t_entry'], vel=vel)  # Move to entry point by task move\n",
    "\n",
    "    # Check pick position from Pickit is lower than the height of entry point \n",
    "    if pick_above[2] <= teach_config['t_entry'][2]:\n",
    "        # Move to pick position by task move\n",
    "        prog.add_task_move_to(list(pick_above), vel=vel, blend=0.1)\n",
    "        prog.add_task_move_to(list(pick_pos), vel=vel, blend=0.1)\n",
    "        prog.add_endtool_do(type=0, value=1)  # Release gripper\n",
    "        \n",
    "\n",
    "    # Move backward to entry and pre entry points\n",
    "    prog.add_wait(1)\n",
    "    prog.add_joint_move_to(teach_config['j_entry'], vel=vel)\n",
    "    prog.add_joint_move_to(teach_config['j_detect_home'], vel=vel)\n",
    "\n",
    "    indy.set_and_start_json_program(prog.program_done())\n",
    "    indy.wait_for_program_finish()  # Wait 'Pick' program to be finished\n",
    "\n",
    "    # Place\n",
    "    prog = JsonProgramComponent(policy=3, resume_time=2)                \n",
    "    prog.add_task_move_to(teach_config['t_place'], vel=vel, blend=0.1)\n",
    "    prog.add_endtool_do(type=0, value=0)  # Release gripper\n",
    "    prog.add_wait(0.3)\n",
    "    prog.add_joint_move_to(teach_config['j_detect_home'], vel=vel)\n",
    "\n",
    "    indy.set_and_start_json_program(prog.program_done())               \n",
    "\n",
    "else:\n",
    "    print('No object is detected')"
   ]
  },
  {
   "cell_type": "code",
   "execution_count": 19,
   "metadata": {},
   "outputs": [
    {
     "name": "stdout",
     "output_type": "stream",
     "text": [
      "Header check fail (cmdId): Request 17, Response 9999\n",
      "ErrorCode 19: No proper program state\n"
     ]
    }
   ],
   "source": [
    "# Emergency stop example program\n",
    "\n",
    "indy.stop_motion()\n",
    "indy.stop_current_program()\n",
    "\n",
    "TERMINATE_THREADS = True"
   ]
  },
  {
   "cell_type": "code",
   "execution_count": null,
   "metadata": {},
   "outputs": [],
   "source": []
  },
  {
   "cell_type": "code",
   "execution_count": null,
   "metadata": {},
   "outputs": [],
   "source": []
  },
  {
   "cell_type": "code",
   "execution_count": null,
   "metadata": {},
   "outputs": [],
   "source": []
  },
  {
   "cell_type": "code",
   "execution_count": null,
   "metadata": {},
   "outputs": [],
   "source": []
  }
 ],
 "metadata": {
  "kernelspec": {
   "display_name": "Python 3",
   "language": "python",
   "name": "python3"
  },
  "language_info": {
   "codemirror_mode": {
    "name": "ipython",
    "version": 3
   },
   "file_extension": ".py",
   "mimetype": "text/x-python",
   "name": "python",
   "nbconvert_exporter": "python",
   "pygments_lexer": "ipython3",
   "version": "3.8.10"
  }
 },
 "nbformat": 4,
 "nbformat_minor": 2
}
